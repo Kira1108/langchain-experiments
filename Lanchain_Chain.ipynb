{
  "nbformat": 4,
  "nbformat_minor": 0,
  "metadata": {
    "colab": {
      "provenance": [],
      "authorship_tag": "ABX9TyMeRmxWrKakfxFJH1w4o8Hq",
      "include_colab_link": true
    },
    "kernelspec": {
      "name": "python3",
      "display_name": "Python 3"
    },
    "language_info": {
      "name": "python"
    }
  },
  "cells": [
    {
      "cell_type": "markdown",
      "metadata": {
        "id": "view-in-github",
        "colab_type": "text"
      },
      "source": [
        "<a href=\"https://colab.research.google.com/github/Kira1108/langchain-experiments/blob/main/Lanchain_Chain.ipynb\" target=\"_parent\"><img src=\"https://colab.research.google.com/assets/colab-badge.svg\" alt=\"Open In Colab\"/></a>"
      ]
    },
    {
      "cell_type": "code",
      "execution_count": 1,
      "metadata": {
        "id": "hjDm_LdVxQUo"
      },
      "outputs": [],
      "source": [
        "from IPython.display import clear_output\n",
        "!pip install openai langchain\n",
        "clear_output()"
      ]
    },
    {
      "cell_type": "code",
      "source": [
        "import os\n",
        "import openai\n",
        "os.environ['OPENAI_API_KEY'] = \"\""
      ],
      "metadata": {
        "id": "Rlg2Y08fxsVu"
      },
      "execution_count": 2,
      "outputs": []
    },
    {
      "cell_type": "code",
      "source": [
        "from langchain.llms import OpenAI\n",
        "from langchain.chat_models import ChatOpenAI\n",
        "from langchain.chains import LLMChain\n",
        "from langchain.prompts import PromptTemplate"
      ],
      "metadata": {
        "id": "Chqy048Xx4rU"
      },
      "execution_count": 3,
      "outputs": []
    },
    {
      "cell_type": "markdown",
      "source": [
        "### Compose Chains"
      ],
      "metadata": {
        "id": "wun7mKq3_rDN"
      }
    },
    {
      "cell_type": "code",
      "source": [
        "llm = ChatOpenAI(temperature = 1)\n",
        "\n",
        "prompt_product = PromptTemplate(template = \"What is a fantastic and creative company name in Chinese that sells product {product}\", input_variables = ['product'])\n",
        "chain_product = LLMChain(prompt = prompt_product, llm = llm, verbose = True)\n",
        "\n",
        "\n",
        "prompt_phrase = PromptTemplate(input_variables=[\"company_name\"],template=\"Write a catchphrase in Chinese for the following company: {company_name}\")\n",
        "chain_phrase = LLMChain(llm=llm, prompt=prompt_phrase, verbose = True)"
      ],
      "metadata": {
        "id": "RAPiEDdZy6oq"
      },
      "execution_count": 16,
      "outputs": []
    },
    {
      "cell_type": "code",
      "source": [
        "chain_phrase.run(chain_product.run(\"中国山水画\"))"
      ],
      "metadata": {
        "colab": {
          "base_uri": "https://localhost:8080/",
          "height": 278
        },
        "id": "ej3efhigzbnX",
        "outputId": "37aea291-aaec-4f06-ebbd-222ebe210bbc"
      },
      "execution_count": 17,
      "outputs": [
        {
          "output_type": "stream",
          "name": "stdout",
          "text": [
            "\n",
            "\n",
            "\u001b[1m> Entering new LLMChain chain...\u001b[0m\n",
            "Prompt after formatting:\n",
            "\u001b[32;1m\u001b[1;3mWhat is a fantastic and creative company name in Chinese that sells product 中国山水画\u001b[0m\n",
            "\n",
            "\u001b[1m> Finished chain.\u001b[0m\n",
            "\n",
            "\n",
            "\u001b[1m> Entering new LLMChain chain...\u001b[0m\n",
            "Prompt after formatting:\n",
            "\u001b[32;1m\u001b[1;3mWrite a catchphrase in Chinese for the following company: 青山水画 (Qīngshān shuǐhuà) which means \"Green Mountain Landscape Painting\".\u001b[0m\n",
            "\n",
            "\u001b[1m> Finished chain.\u001b[0m\n"
          ]
        },
        {
          "output_type": "execute_result",
          "data": {
            "text/plain": [
              "'\"一幅青山画，一描山水情\" (Yī fú qīngshān huà, yī miáo shānshuǐ qíng) - which translates to \"A green mountain painting, captures the essence of nature\".'"
            ],
            "application/vnd.google.colaboratory.intrinsic+json": {
              "type": "string"
            }
          },
          "metadata": {},
          "execution_count": 17
        }
      ]
    },
    {
      "cell_type": "code",
      "source": [
        "chain_phrase.run(chain_product.run(\"宠物店\"))"
      ],
      "metadata": {
        "colab": {
          "base_uri": "https://localhost:8080/",
          "height": 278
        },
        "id": "5paJJ2byziWn",
        "outputId": "4000543b-d595-4611-d0a4-2cc06fb47778"
      },
      "execution_count": 18,
      "outputs": [
        {
          "output_type": "stream",
          "name": "stdout",
          "text": [
            "\n",
            "\n",
            "\u001b[1m> Entering new LLMChain chain...\u001b[0m\n",
            "Prompt after formatting:\n",
            "\u001b[32;1m\u001b[1;3mWhat is a fantastic and creative company name in Chinese that sells product 宠物店\u001b[0m\n",
            "\n",
            "\u001b[1m> Finished chain.\u001b[0m\n",
            "\n",
            "\n",
            "\u001b[1m> Entering new LLMChain chain...\u001b[0m\n",
            "Prompt after formatting:\n",
            "\u001b[32;1m\u001b[1;3mWrite a catchphrase in Chinese for the following company: 萌宠之家 (Měng chǒng zhī jiā), which translates to \"Adorable Pet Home.\"\u001b[0m\n",
            "\n",
            "\u001b[1m> Finished chain.\u001b[0m\n"
          ]
        },
        {
          "output_type": "execute_result",
          "data": {
            "text/plain": [
              "'\"小宠物，大幸福\" (xiǎo chǒngwù, dà xìngfú) which means \"Small pets, big happiness.\"'"
            ],
            "application/vnd.google.colaboratory.intrinsic+json": {
              "type": "string"
            }
          },
          "metadata": {},
          "execution_count": 18
        }
      ]
    },
    {
      "cell_type": "code",
      "source": [
        "from langchain.chains import SimpleSequentialChain\n",
        "overall_chain = SimpleSequentialChain(chains=[chain_product, chain_phrase], verbose=True)\n",
        "\n",
        "catchphrase = overall_chain.run(\"中国臭豆腐\")"
      ],
      "metadata": {
        "colab": {
          "base_uri": "https://localhost:8080/"
        },
        "id": "tKYLEbuU8wqP",
        "outputId": "e53312b3-0dbd-4c73-fcc0-0ef8908cdcc7"
      },
      "execution_count": 20,
      "outputs": [
        {
          "output_type": "stream",
          "name": "stdout",
          "text": [
            "\n",
            "\n",
            "\u001b[1m> Entering new SimpleSequentialChain chain...\u001b[0m\n",
            "\n",
            "\n",
            "\u001b[1m> Entering new LLMChain chain...\u001b[0m\n",
            "Prompt after formatting:\n",
            "\u001b[32;1m\u001b[1;3mWhat is a fantastic and creative company name in Chinese that sells product 中国臭豆腐\u001b[0m\n",
            "\n",
            "\u001b[1m> Finished chain.\u001b[0m\n",
            "\u001b[36;1m\u001b[1;3m香炸阁 (xiāng zhà gé) - which translates to \"Fragrant Fried Pavilion\".\u001b[0m\n",
            "\n",
            "\n",
            "\u001b[1m> Entering new LLMChain chain...\u001b[0m\n",
            "Prompt after formatting:\n",
            "\u001b[32;1m\u001b[1;3mWrite a catchphrase in Chinese for the following company: 香炸阁 (xiāng zhà gé) - which translates to \"Fragrant Fried Pavilion\".\u001b[0m\n",
            "\n",
            "\u001b[1m> Finished chain.\u001b[0m\n",
            "\u001b[33;1m\u001b[1;3m享受香炸美食，尽在香炸阁！\n",
            "(Enjoy the delicious fragrance of fried food, all at Fragrant Fried Pavilion!)\u001b[0m\n",
            "\n",
            "\u001b[1m> Finished chain.\u001b[0m\n"
          ]
        }
      ]
    },
    {
      "cell_type": "markdown",
      "source": [
        "**Chain是顶层对象，你需要实现下面几个方法**"
      ],
      "metadata": {
        "id": "_xwBdjaNKM2H"
      }
    },
    {
      "cell_type": "code",
      "source": [
        "from langchain.chains import LLMChain\n",
        "from langchain.chains.base import Chain\n",
        "\n",
        "from typing import Dict, List\n",
        "\n",
        "'''\n",
        "# Chain is a BaseModel\n",
        "from pydantic import BaseModel\n",
        ">>> issubclass(Chain, BaseModel)\n",
        ">>> True\n",
        "'''\n",
        "\n",
        "class ConcatenateChain(Chain):\n",
        "    # Standard way of writing BaseModel subclasses\n",
        "    chain_1: LLMChain\n",
        "    chain_2: LLMChain\n",
        "\n",
        "    @property\n",
        "    def input_keys(self) -> List[str]:\n",
        "        # Union of the input keys of the two chains.\n",
        "        all_input_vars = set(self.chain_1.input_keys).union(set(self.chain_2.input_keys))\n",
        "        return list(all_input_vars)\n",
        "\n",
        "    @property\n",
        "    def output_keys(self) -> List[str]:\n",
        "        return ['concat_output']\n",
        "\n",
        "    def _call(self, inputs: Dict[str, str]) -> Dict[str, str]:\n",
        "        output_1 = self.chain_1.run(inputs)\n",
        "        output_2 = self.chain_2.run(inputs)\n",
        "        return {'concat_output': output_1 + output_2}"
      ],
      "metadata": {
        "id": "hoP7lFFY817w"
      },
      "execution_count": 24,
      "outputs": []
    },
    {
      "cell_type": "code",
      "source": [
        "class ExtractEntityChain(Chain):\n",
        "    entity_chain:LLMChain\n",
        "    relation_chain:LLMChain\n",
        "\n",
        "    @property\n",
        "    def input_keys(self) -> List[str]:\n",
        "        # Union of the input keys of the two chains.\n",
        "        all_input_vars = set(self.chain_1.input_keys).union(set(self.chain_2.input_keys))\n",
        "        return list(all_input_vars)\n",
        "\n",
        "    @property\n",
        "    def output_keys(self) -> List[str]:\n",
        "        return ['final_result']"
      ],
      "metadata": {
        "id": "N8tvpvcHKEX9"
      },
      "execution_count": 25,
      "outputs": []
    },
    {
      "cell_type": "code",
      "source": [
        "from langchain.prompts import PromptTemplate\n",
        "from langchain.chains import ConversationChain, LLMChain\n",
        "\n",
        "llm = OpenAI(temperature = 0)\n",
        "\n",
        "entities_extraction_prompt_template = \"\"\"\n",
        "Extract all entities names (only person, location, and organization) from the following text,\n",
        "Entities are normally nouns, prouns are all ignored, for example, he, she, this, that.\n",
        "Only determined entities which has a name is extracted.\n",
        "Give the result as a list, separated by comma\n",
        "\n",
        "EXAMPLE\n",
        "text:  小明和小红今在重庆大学上学\n",
        "entities: 小红, 小明, 重庆大学\n",
        "EXAMPLE END\n",
        "\n",
        "text: {text}\n",
        "entities:\n",
        "\"\"\"\n",
        "\n",
        "entities_extract_prompt = PromptTemplate(template = entities_extraction_prompt_template, input_variables = ['text'])\n",
        "\n",
        "extraction_chain = LLMChain(llm = llm, prompt = entities_extract_prompt)\n",
        "\n",
        "entities = extraction_chain.run(\"哎卧槽，我老王觉得，这种时候，我们就别维护什么对话历史了吧，langchain真的垃圾\")\n",
        "\n",
        "entities = [e.strip() for e in entities.split(\",\")]"
      ],
      "metadata": {
        "id": "Wb82g3_lKTiI"
      },
      "execution_count": 86,
      "outputs": []
    },
    {
      "cell_type": "code",
      "source": [
        "entities"
      ],
      "metadata": {
        "colab": {
          "base_uri": "https://localhost:8080/"
        },
        "id": "wZspxutUxyOc",
        "outputId": "07bf75dd-585e-4f51-ea1c-9c09d315267a"
      },
      "execution_count": 88,
      "outputs": [
        {
          "output_type": "execute_result",
          "data": {
            "text/plain": [
              "['老王', 'langchain']"
            ]
          },
          "metadata": {},
          "execution_count": 88
        }
      ]
    }
  ]
}