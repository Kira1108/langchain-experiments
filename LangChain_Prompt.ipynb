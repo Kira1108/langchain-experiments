{
  "nbformat": 4,
  "nbformat_minor": 0,
  "metadata": {
    "colab": {
      "provenance": [],
      "authorship_tag": "ABX9TyMDHQegfJ5yLPgQ+1cdx6hX",
      "include_colab_link": true
    },
    "kernelspec": {
      "name": "python3",
      "display_name": "Python 3"
    },
    "language_info": {
      "name": "python"
    }
  },
  "cells": [
    {
      "cell_type": "markdown",
      "metadata": {
        "id": "view-in-github",
        "colab_type": "text"
      },
      "source": [
        "<a href=\"https://colab.research.google.com/github/Kira1108/langchain-experiments/blob/main/LangChain_Prompt.ipynb\" target=\"_parent\"><img src=\"https://colab.research.google.com/assets/colab-badge.svg\" alt=\"Open In Colab\"/></a>"
      ]
    },
    {
      "cell_type": "code",
      "execution_count": 2,
      "metadata": {
        "id": "BFMYeAfjhhBo"
      },
      "outputs": [],
      "source": [
        "from IPython.display import clear_output\n",
        "!pip install langchain\n",
        "!pip install openai\n",
        "!pip install git+https://github.com/Kira1108/simple-chat.git\n",
        "clear_output()"
      ]
    },
    {
      "cell_type": "code",
      "source": [
        "try:\n",
        "    from simple_chat.printer import MarkdownPrinter\n",
        "    printer = MarkdownPrinter()\n",
        "except:\n",
        "    printer = print"
      ],
      "metadata": {
        "id": "FczwCSw4pLNE"
      },
      "execution_count": 3,
      "outputs": []
    },
    {
      "cell_type": "code",
      "source": [
        "import os\n",
        "from langchain import OpenAI, SQLDatabase, SQLDatabaseChain\n",
        "import sqlite3\n",
        "import os\n",
        "os.environ['OPENAI_API_KEY'] = ''"
      ],
      "metadata": {
        "id": "nD25y8GGhosf"
      },
      "execution_count": 4,
      "outputs": []
    },
    {
      "cell_type": "markdown",
      "source": [
        "### 对于llm，掌握openai就够了，其他的也没钱部署"
      ],
      "metadata": {
        "id": "QnnHcXiwk_bM"
      }
    },
    {
      "cell_type": "code",
      "source": [
        "from langchain.llms import OpenAI\n",
        "from langchain.chat_models import ChatOpenAI\n",
        "\n",
        "chatgpt = ChatOpenAI()\n",
        "davinci = OpenAI()\n",
        "\n",
        "print(\"llm model name:\", davinci.model_name)\n",
        "print(\"chatgpt model name: \",chatgpt.model_name)"
      ],
      "metadata": {
        "colab": {
          "base_uri": "https://localhost:8080/"
        },
        "id": "BGHihNTTh8PZ",
        "outputId": "ce01c837-51e0-4180-f757-cb0e4b449b68"
      },
      "execution_count": 5,
      "outputs": [
        {
          "output_type": "stream",
          "name": "stdout",
          "text": [
            "llm model name: text-davinci-003\n",
            "chatgpt model name:  gpt-3.5-turbo\n"
          ]
        }
      ]
    },
    {
      "cell_type": "markdown",
      "source": [
        "### PromptTemplate\n",
        "\n",
        "- 带参数的Prompt\n",
        "- 不带参数的Prompt\n",
        "- 有花括号的Prompt String"
      ],
      "metadata": {
        "id": "ke5fNrkUq2Sb"
      }
    },
    {
      "cell_type": "code",
      "source": [
        "from langchain import PromptTemplate\n",
        "\n",
        "\n",
        "template = \"\"\"\n",
        "I want you to act as a naming consultant for new companies.\n",
        "\n",
        "Here are some examples of good company names:\n",
        "\n",
        "- search engine, Google\n",
        "- social media, Facebook\n",
        "- video sharing, YouTube\n",
        "\n",
        "The name should be short, catchy and easy to remember.\n",
        "\n",
        "What is a good name for a company that makes {product}?\n",
        "\"\"\"\n",
        "\n",
        "prompt = PromptTemplate(\n",
        "    input_variables=[\"product\"],\n",
        "    template=template,\n",
        ")\n",
        "\n",
        "printer(prompt.format(product = \"headphone\"))"
      ],
      "metadata": {
        "colab": {
          "base_uri": "https://localhost:8080/",
          "height": 196
        },
        "id": "_4O7cvQckag2",
        "outputId": "b00de3ca-2d2b-4afe-9d69-10cb06576bd2"
      },
      "execution_count": 6,
      "outputs": [
        {
          "output_type": "display_data",
          "data": {
            "text/plain": [
              "<IPython.core.display.Markdown object>"
            ],
            "text/markdown": "\nI want you to act as a naming consultant for new companies.\n\nHere are some examples of good company names:\n\n- search engine, Google\n- social media, Facebook\n- video sharing, YouTube\n\nThe name should be short, catchy and easy to remember.\n\nWhat is a good name for a company that makes headphone?\n"
          },
          "metadata": {}
        }
      ]
    },
    {
      "cell_type": "code",
      "source": [
        "template = \"\"\"\n",
        "This is a custom template.\n",
        "In this template, I have a variable {var1}\n",
        "and another variable {var2}\n",
        "\n",
        "In order to use a curly brace, I will have to use\n",
        "{{some_text}}\n",
        "\"\"\"\n",
        "\n",
        "prompt = PromptTemplate(\n",
        "    input_variables=[\"var1\",'var2'],\n",
        "    template=template,\n",
        ")\n",
        "\n",
        "printer(prompt.format(var1 = 3, var2 = 4))"
      ],
      "metadata": {
        "colab": {
          "base_uri": "https://localhost:8080/",
          "height": 91
        },
        "id": "NoQB-UZVoi3M",
        "outputId": "1cbe1961-41db-4b18-e7be-e432837b96ed"
      },
      "execution_count": 7,
      "outputs": [
        {
          "output_type": "display_data",
          "data": {
            "text/plain": [
              "<IPython.core.display.Markdown object>"
            ],
            "text/markdown": "\nThis is a custom template.\nIn this template, I have a variable 3\nand another variable 4\n\nIn order to use a curly brace, I will have to use\n{some_text}\n"
          },
          "metadata": {}
        }
      ]
    },
    {
      "cell_type": "code",
      "source": [
        "template = \"This is a prompt with no variable\"\n",
        "\n",
        "prompt = PromptTemplate(input_variables = [], template = template)\n",
        "printer(prompt.format())"
      ],
      "metadata": {
        "colab": {
          "base_uri": "https://localhost:8080/",
          "height": 67
        },
        "id": "ORgDpyVeqRzv",
        "outputId": "90ab5603-9d60-4b14-b9b5-40bf11092f50"
      },
      "execution_count": 8,
      "outputs": [
        {
          "output_type": "display_data",
          "data": {
            "text/plain": [
              "<IPython.core.display.Markdown object>"
            ],
            "text/markdown": "This is a prompt with no variable"
          },
          "metadata": {}
        }
      ]
    },
    {
      "cell_type": "markdown",
      "source": [
        "### FewShot Template"
      ],
      "metadata": {
        "id": "tCr3ZoH7tip4"
      }
    },
    {
      "cell_type": "markdown",
      "source": [
        " - 首先你要构造样本提示语 数据样本 - `example`是`list of json`，用`example_formatter_template`构造一个`PromptTemplate`， 这俩东西在FewShotTemplate里面组装\n",
        " - 然后你要构造小样本学习的提示语 - `FewShotPromptTemplate` 这里需要知道小样本学习的流程。\n",
        " 1. 输入任务\n",
        " 2. 输入样本\n",
        " 3. 接收用户输入，等待模型输出\n",
        "\n",
        " ```python\n",
        " 我今天需要完成一个牛逼的任务 # 这个是prefix,当作任务描述就行了\n",
        "\n",
        " 输入=白， 结果 = 黑 # 这儿是小样本，exmaple插入example_formatter_template\n",
        " 输入=高， 结果 = 矮\n",
        "\n",
        " 输入=傻   结果 = # 这是suffix, input_variables = 傻， 插入 suffix\n",
        " ```\n",
        "\n",
        " 分三段写，第一段写任务，第二段写样本，第三段写输出"
      ],
      "metadata": {
        "id": "JPMvs48au45o"
      }
    },
    {
      "cell_type": "code",
      "source": [
        "from langchain import PromptTemplate, FewShotPromptTemplate\n",
        "\n",
        "\n",
        "# First, create the list of few shot examples.\n",
        "examples = [\n",
        "    {\"word\": \"happy\", \"antonym\": \"sad\"},\n",
        "    {\"word\": \"tall\", \"antonym\": \"short\"},\n",
        "]\n",
        "\n",
        "# Next, we specify the template to format the examples we have provided.\n",
        "# We use the `PromptTemplate` class for this.\n",
        "example_formatter_template = \"\"\"\n",
        "Word: {word}\n",
        "Antonym: {antonym}\\n\n",
        "\"\"\"\n",
        "example_prompt = PromptTemplate(\n",
        "    input_variables=[\"word\", \"antonym\"],\n",
        "    template=example_formatter_template,\n",
        ")\n",
        "\n",
        "# Finally, we create the `FewShotPromptTemplate` object.\n",
        "few_shot_prompt = FewShotPromptTemplate(\n",
        "    # These are the examples we want to insert into the prompt.\n",
        "    examples=examples,\n",
        "    # This is how we want to format the examples when we insert them into the prompt.\n",
        "    example_prompt=example_prompt,\n",
        "    # The prefix is some text that goes before the examples in the prompt.\n",
        "    # Usually, this consists of intructions.\n",
        "    prefix=\"Give the antonym of every input\",\n",
        "    # The suffix is some text that goes after the examples in the prompt.\n",
        "    # Usually, this is where the user input will go\n",
        "    suffix=\"Word: {input}\\nAntonym:\",\n",
        "    # The input variables are the variables that the overall prompt expects.\n",
        "    input_variables=[\"input\"],\n",
        "    # The example_separator is the string we will use to join the prefix, examples, and suffix together with.\n",
        "    example_separator=\"\",\n",
        ")\n",
        "\n",
        "# We can now generate a prompt using the `format` method.\n",
        "print(few_shot_prompt.format(input=\"big\"))"
      ],
      "metadata": {
        "colab": {
          "base_uri": "https://localhost:8080/"
        },
        "id": "PgsRCDXTrDws",
        "outputId": "2a5b82ed-ba9d-4cfa-f259-522e675a7a91"
      },
      "execution_count": 9,
      "outputs": [
        {
          "output_type": "stream",
          "name": "stdout",
          "text": [
            "Give the antonym of every input\n",
            "Word: happy\n",
            "Antonym: sad\n",
            "\n",
            "\n",
            "Word: tall\n",
            "Antonym: short\n",
            "\n",
            "Word: big\n",
            "Antonym:\n"
          ]
        }
      ]
    },
    {
      "cell_type": "markdown",
      "source": [
        "### Example Selector"
      ],
      "metadata": {
        "id": "uvj4ZObz2dpT"
      }
    },
    {
      "cell_type": "code",
      "source": [
        "example_formatter_template = \"\"\"\n",
        "Word: {word}\n",
        "Antonym: {antonym}\\n\n",
        "\"\"\"\n",
        "\n",
        "from langchain.prompts.example_selector import LengthBasedExampleSelector\n",
        "\n",
        "\n",
        "# These are a lot of examples of a pretend task of creating antonyms.\n",
        "examples = [\n",
        "    {\"word\": \"happy\", \"antonym\": \"sad\"},\n",
        "    {\"word\": \"tall\", \"antonym\": \"short\"},\n",
        "    {\"word\": \"energetic\", \"antonym\": \"lethargic\"},\n",
        "    {\"word\": \"sunny\", \"antonym\": \"gloomy\"},\n",
        "    {\"word\": \"windy\", \"antonym\": \"calm\"},\n",
        "]\n",
        "\n",
        "# We'll use the `LengthBasedExampleSelector` to select the examples.\n",
        "example_selector = LengthBasedExampleSelector(\n",
        "    # These are the examples is has available to choose from.\n",
        "    examples=examples, \n",
        "    # This is the PromptTemplate being used to format the examples.\n",
        "    example_prompt=example_prompt, \n",
        "    # This is the maximum length that the formatted examples should be.\n",
        "    # Length is measured by the get_text_length function below.\n",
        "    max_length=25,\n",
        ")\n",
        "\n",
        "# We can now use the `example_selector` to create a `FewShotPromptTemplate`.\n",
        "dynamic_prompt = FewShotPromptTemplate(\n",
        "    # We provide an ExampleSelector instead of examples.\n",
        "    example_selector=example_selector,\n",
        "    example_prompt=example_prompt,\n",
        "    prefix=\"Give the antonym of every input\",\n",
        "    suffix=\"Word: {input}\\nAntonym:\",\n",
        "    input_variables=[\"input\"],\n",
        "    example_separator=\"\\n\",\n",
        ")\n",
        "\n",
        "# We can now generate a prompt using the `format` method.\n",
        "printer(dynamic_prompt.format(input=\"big\"))"
      ],
      "metadata": {
        "colab": {
          "base_uri": "https://localhost:8080/",
          "height": 161
        },
        "id": "ObrXs74MxKiA",
        "outputId": "ec6ef515-f031-4a2f-c7ca-577885bf8400"
      },
      "execution_count": 10,
      "outputs": [
        {
          "output_type": "display_data",
          "data": {
            "text/plain": [
              "<IPython.core.display.Markdown object>"
            ],
            "text/markdown": "Give the antonym of every input\n\nWord: happy\nAntonym: sad\n\n\n\nWord: tall\nAntonym: short\n\n\n\nWord: energetic\nAntonym: lethargic\n\n\nWord: big\nAntonym:"
          },
          "metadata": {}
        }
      ]
    },
    {
      "cell_type": "code",
      "source": [
        "printer(dynamic_prompt.format(input=\"big small and niubi and there are alog of words here in the input string, cool\"))"
      ],
      "metadata": {
        "colab": {
          "base_uri": "https://localhost:8080/",
          "height": 114
        },
        "id": "fnxxHOJ33E8u",
        "outputId": "ff91524c-a704-4d08-c4f9-e6f237bf1b5a"
      },
      "execution_count": 11,
      "outputs": [
        {
          "output_type": "display_data",
          "data": {
            "text/plain": [
              "<IPython.core.display.Markdown object>"
            ],
            "text/markdown": "Give the antonym of every input\n\nWord: happy\nAntonym: sad\n\n\nWord: big small and niubi and there are alog of words here in the input string, cool\nAntonym:"
          },
          "metadata": {}
        }
      ]
    },
    {
      "cell_type": "code",
      "source": [
        "from langchain.prompts.few_shot import FewShotPromptTemplate\n",
        "from langchain.prompts.prompt import PromptTemplate\n",
        "\n",
        "examples = [\n",
        "  {\n",
        "    \"question\": \"Who lived longer, Muhammad Ali or Alan Turing?\",\n",
        "    \"answer\": \n",
        "\"\"\"\n",
        "Are follow up questions needed here: Yes.\n",
        "Follow up: How old was Muhammad Ali when he died?\n",
        "Intermediate answer: Muhammad Ali was 74 years old when he died.\n",
        "Follow up: How old was Alan Turing when he died?\n",
        "Intermediate answer: Alan Turing was 41 years old when he died.\n",
        "So the final answer is: Muhammad Ali\n",
        "\"\"\"\n",
        "  },\n",
        "  {\n",
        "    \"question\": \"When was the founder of craigslist born?\",\n",
        "    \"answer\": \n",
        "\"\"\"\n",
        "Are follow up questions needed here: Yes.\n",
        "Follow up: Who was the founder of craigslist?\n",
        "Intermediate answer: Craigslist was founded by Craig Newmark.\n",
        "Follow up: When was Craig Newmark born?\n",
        "Intermediate answer: Craig Newmark was born on December 6, 1952.\n",
        "So the final answer is: December 6, 1952\n",
        "\"\"\"\n",
        "  },\n",
        "  {\n",
        "    \"question\": \"Who was the maternal grandfather of George Washington?\",\n",
        "    \"answer\":\n",
        "\"\"\"\n",
        "Are follow up questions needed here: Yes.\n",
        "Follow up: Who was the mother of George Washington?\n",
        "Intermediate answer: The mother of George Washington was Mary Ball Washington.\n",
        "Follow up: Who was the father of Mary Ball Washington?\n",
        "Intermediate answer: The father of Mary Ball Washington was Joseph Ball.\n",
        "So the final answer is: Joseph Ball\n",
        "\"\"\"\n",
        "  },\n",
        "  {\n",
        "    \"question\": \"Are both the directors of Jaws and Casino Royale from the same country?\",\n",
        "    \"answer\":\n",
        "\"\"\"\n",
        "Are follow up questions needed here: Yes.\n",
        "Follow up: Who is the director of Jaws?\n",
        "Intermediate Answer: The director of Jaws is Steven Spielberg.\n",
        "Follow up: Where is Steven Spielberg from?\n",
        "Intermediate Answer: The United States.\n",
        "Follow up: Who is the director of Casino Royale?\n",
        "Intermediate Answer: The director of Casino Royale is Martin Campbell.\n",
        "Follow up: Where is Martin Campbell from?\n",
        "Intermediate Answer: New Zealand.\n",
        "So the final answer is: No\n",
        "\"\"\"\n",
        "  }\n",
        "]\n",
        "\n",
        "\n",
        "example_prompt = PromptTemplate(input_variables=[\"question\", \"answer\"], template=\"Question: {question}\\n{answer}\")\n",
        "\n",
        "for i in range(3):\n",
        "    printer(example_prompt.format(**examples[i]))"
      ],
      "metadata": {
        "colab": {
          "base_uri": "https://localhost:8080/",
          "height": 273
        },
        "id": "OK0oWuIp3W8P",
        "outputId": "0e501fc1-b6cc-4f0e-9777-0c006681b0d1"
      },
      "execution_count": 12,
      "outputs": [
        {
          "output_type": "display_data",
          "data": {
            "text/plain": [
              "<IPython.core.display.Markdown object>"
            ],
            "text/markdown": "Question: Who lived longer, Muhammad Ali or Alan Turing?\n\nAre follow up questions needed here: Yes.\nFollow up: How old was Muhammad Ali when he died?\nIntermediate answer: Muhammad Ali was 74 years old when he died.\nFollow up: How old was Alan Turing when he died?\nIntermediate answer: Alan Turing was 41 years old when he died.\nSo the final answer is: Muhammad Ali\n"
          },
          "metadata": {}
        },
        {
          "output_type": "display_data",
          "data": {
            "text/plain": [
              "<IPython.core.display.Markdown object>"
            ],
            "text/markdown": "Question: When was the founder of craigslist born?\n\nAre follow up questions needed here: Yes.\nFollow up: Who was the founder of craigslist?\nIntermediate answer: Craigslist was founded by Craig Newmark.\nFollow up: When was Craig Newmark born?\nIntermediate answer: Craig Newmark was born on December 6, 1952.\nSo the final answer is: December 6, 1952\n"
          },
          "metadata": {}
        },
        {
          "output_type": "display_data",
          "data": {
            "text/plain": [
              "<IPython.core.display.Markdown object>"
            ],
            "text/markdown": "Question: Who was the maternal grandfather of George Washington?\n\nAre follow up questions needed here: Yes.\nFollow up: Who was the mother of George Washington?\nIntermediate answer: The mother of George Washington was Mary Ball Washington.\nFollow up: Who was the father of Mary Ball Washington?\nIntermediate answer: The father of Mary Ball Washington was Joseph Ball.\nSo the final answer is: Joseph Ball\n"
          },
          "metadata": {}
        }
      ]
    },
    {
      "cell_type": "code",
      "source": [
        "prompt = FewShotPromptTemplate(\n",
        "    examples=examples, \n",
        "    example_prompt=example_prompt, \n",
        "    suffix=\"Question: {input}\", \n",
        "    input_variables=[\"input\"]\n",
        ")\n",
        "\n",
        "printer(prompt.format(input=\"Who was the father of Mary Ball Washington?\"))"
      ],
      "metadata": {
        "colab": {
          "base_uri": "https://localhost:8080/",
          "height": 379
        },
        "id": "Rh1K4y_ZQSeq",
        "outputId": "2d0e5edd-a9b1-4944-a3d4-26f2ba8a7201"
      },
      "execution_count": 13,
      "outputs": [
        {
          "output_type": "display_data",
          "data": {
            "text/plain": [
              "<IPython.core.display.Markdown object>"
            ],
            "text/markdown": "Question: Who lived longer, Muhammad Ali or Alan Turing?\n\nAre follow up questions needed here: Yes.\nFollow up: How old was Muhammad Ali when he died?\nIntermediate answer: Muhammad Ali was 74 years old when he died.\nFollow up: How old was Alan Turing when he died?\nIntermediate answer: Alan Turing was 41 years old when he died.\nSo the final answer is: Muhammad Ali\n\n\nQuestion: When was the founder of craigslist born?\n\nAre follow up questions needed here: Yes.\nFollow up: Who was the founder of craigslist?\nIntermediate answer: Craigslist was founded by Craig Newmark.\nFollow up: When was Craig Newmark born?\nIntermediate answer: Craig Newmark was born on December 6, 1952.\nSo the final answer is: December 6, 1952\n\n\nQuestion: Who was the maternal grandfather of George Washington?\n\nAre follow up questions needed here: Yes.\nFollow up: Who was the mother of George Washington?\nIntermediate answer: The mother of George Washington was Mary Ball Washington.\nFollow up: Who was the father of Mary Ball Washington?\nIntermediate answer: The father of Mary Ball Washington was Joseph Ball.\nSo the final answer is: Joseph Ball\n\n\nQuestion: Are both the directors of Jaws and Casino Royale from the same country?\n\nAre follow up questions needed here: Yes.\nFollow up: Who is the director of Jaws?\nIntermediate Answer: The director of Jaws is Steven Spielberg.\nFollow up: Where is Steven Spielberg from?\nIntermediate Answer: The United States.\nFollow up: Who is the director of Casino Royale?\nIntermediate Answer: The director of Casino Royale is Martin Campbell.\nFollow up: Where is Martin Campbell from?\nIntermediate Answer: New Zealand.\nSo the final answer is: No\n\n\nQuestion: Who was the father of Mary Ball Washington?"
          },
          "metadata": {}
        }
      ]
    },
    {
      "cell_type": "markdown",
      "source": [
        "### Prompt Subclass"
      ],
      "metadata": {
        "id": "rE-hGBjgECsO"
      }
    },
    {
      "cell_type": "code",
      "source": [
        "import inspect\n",
        "import textwrap\n",
        "\n",
        "def get_source_code(py_func):\n",
        "    return inspect.getsource(py_func)\n",
        "\n",
        "\n",
        "from langchain.prompts import StringPromptTemplate\n",
        "from pydantic import BaseModel, validator\n",
        "\n",
        "\n",
        "FUNCTION_PROMPT = \"\"\"\n",
        "Given the function name and source code, generate an English language explanation of the function.\n",
        "Function name : {function_name}\n",
        "Source Code:\n",
        "```python\n",
        "{source_code}\n",
        "```\n",
        "Explaination:\n",
        "\"\"\".strip()\n",
        "\n",
        "class FunctionExaplainerPromptTemplate(StringPromptTemplate, BaseModel):\n",
        "    \"\"\"\n",
        "    This is very stupid if no documentation is provided.\n",
        "    In this case, you only pass a input_variables list to the constructor of the prompt\n",
        "    The input_variables lists all parameters required to format the prompt.\n",
        "    \"\"\"\n",
        "    @validator(\"input_variables\")\n",
        "    def validate_input_variables(cls, v):\n",
        "        if len(v) != 1 or \"py_func\" not in v:\n",
        "            raise ValueError(\"py_func must be the only input_variable\")\n",
        "        return v\n",
        "    \n",
        "    # when calling this function, you have to provide the necessary parameters defined in input_variables\n",
        "    def format(self, **kwargs) -> str:\n",
        "        fn = kwargs['py_func']\n",
        "        source_code = get_source_code(fn)\n",
        "        return FUNCTION_PROMPT.format(function_name = fn.__name__, source_code = source_code)\n",
        "\n",
        "    def _prompt_type(self):\n",
        "        return \"function-explainer\"\n",
        "\n",
        "def somefunction():\n",
        "    pass\n",
        "\n",
        "prompt_template = FunctionExaplainerPromptTemplate(input_variables = ['py_func'])\n",
        "\n",
        "print(prompt_template.format(py_func = somefunction))"
      ],
      "metadata": {
        "colab": {
          "base_uri": "https://localhost:8080/"
        },
        "id": "IQsckfkoSmJX",
        "outputId": "f66d378d-a1f1-4397-fe0a-da4db0d4fe90"
      },
      "execution_count": 43,
      "outputs": [
        {
          "output_type": "stream",
          "name": "stdout",
          "text": [
            "Given the function name and source code, generate an English language explanation of the function.\n",
            "Function name : somefunction\n",
            "Source Code:\n",
            "```python\n",
            "def somefunction():\n",
            "    pass\n",
            "\n",
            "```\n",
            "Explaination:\n"
          ]
        }
      ]
    },
    {
      "cell_type": "markdown",
      "source": [
        "### Partial prompts (Very Silly)"
      ],
      "metadata": {
        "id": "qd91Lm1QFjDm"
      }
    },
    {
      "cell_type": "code",
      "source": [
        "from langchain.prompts import PromptTemplate\n",
        "\n",
        "p = PromptTemplate(template = \"{foo}-{bar}\", input_variables = ['foo','bar'])\n",
        "\n",
        "# patialize the prompt, set foo = 3\n",
        "p = p.partial(foo = 3)\n",
        "\n",
        "# format the prompt bar = 12003\n",
        "p.format(bar=  12003)"
      ],
      "metadata": {
        "colab": {
          "base_uri": "https://localhost:8080/",
          "height": 56
        },
        "id": "FhyaH4emAjIn",
        "outputId": "9e3e5eb1-f158-466a-ee4e-db27c4b0ad6b"
      },
      "execution_count": 49,
      "outputs": [
        {
          "output_type": "execute_result",
          "data": {
            "text/plain": [
              "'3-12003'"
            ],
            "application/vnd.google.colaboratory.intrinsic+json": {
              "type": "string"
            }
          },
          "metadata": {},
          "execution_count": 49
        }
      ]
    },
    {
      "cell_type": "markdown",
      "source": [
        "Partial with a function"
      ],
      "metadata": {
        "id": "XC42yrpeFy4z"
      }
    },
    {
      "cell_type": "code",
      "source": [
        "from datetime import datetime\n",
        "\n",
        "def _get_datetime():\n",
        "    now = datetime.now()\n",
        "    return now.strftime(\"%m/%d/%Y, %H:%M:%S\")\n",
        "\n",
        "p = PromptTemplate(template = \"{content} - {time}\", input_variables = ['content','time'])\n",
        "p = p.partial(time= _get_datetime)\n",
        "p.format(content = 'This is content')"
      ],
      "metadata": {
        "colab": {
          "base_uri": "https://localhost:8080/",
          "height": 56
        },
        "id": "cEKezS-AFF4s",
        "outputId": "4dafb76d-71ec-4cd1-d79f-2fd4ce973250"
      },
      "execution_count": 52,
      "outputs": [
        {
          "output_type": "execute_result",
          "data": {
            "text/plain": [
              "'This is content - 03/31/2023, 14:35:54'"
            ],
            "application/vnd.google.colaboratory.intrinsic+json": {
              "type": "string"
            }
          },
          "metadata": {},
          "execution_count": 52
        }
      ]
    },
    {
      "cell_type": "code",
      "source": [],
      "metadata": {
        "id": "eBghTU_eGE7k"
      },
      "execution_count": null,
      "outputs": []
    }
  ]
}